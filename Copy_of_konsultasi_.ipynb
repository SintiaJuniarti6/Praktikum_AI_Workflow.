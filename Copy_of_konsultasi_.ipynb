{
  "nbformat": 4,
  "nbformat_minor": 0,
  "metadata": {
    "colab": {
      "provenance": [],
      "authorship_tag": "ABX9TyNsIXl1tpBSsMUa1X6vhW07",
      "include_colab_link": true
    },
    "kernelspec": {
      "name": "python3",
      "display_name": "Python 3"
    },
    "language_info": {
      "name": "python"
    }
  },
  "cells": [
    {
      "cell_type": "markdown",
      "metadata": {
        "id": "view-in-github",
        "colab_type": "text"
      },
      "source": [
        "<a href=\"https://colab.research.google.com/github/SintiaJuniarti6/Praktikum_AI_Workflow./blob/main/Copy_of_konsultasi_.ipynb\" target=\"_parent\"><img src=\"https://colab.research.google.com/assets/colab-badge.svg\" alt=\"Open In Colab\"/></a>"
      ]
    },
    {
      "cell_type": "code",
      "execution_count": 7,
      "metadata": {
        "colab": {
          "base_uri": "https://localhost:8080/"
        },
        "id": "zpMhTufzK-mu",
        "outputId": "0224a71f-4f04-42ed-ed8d-dfe55eb20257"
      },
      "outputs": [
        {
          "output_type": "stream",
          "name": "stdout",
          "text": [
            "Berikut adalah penelusuran Depth First Search (dimulai dari node 2):\n",
            "2 0 1 3 "
          ]
        }
      ],
      "source": [
        "class Graph:\n",
        "    def __init__(self):\n",
        "        # Menggunakan dictionary untuk menyimpan adjacency list\n",
        "        self.graph = {}\n",
        "\n",
        "    def addEdge(self, u, v):\n",
        "        # Menambahkan edge ke graph (graf berarah)\n",
        "        if u not in self.graph:\n",
        "            self.graph[u] = []\n",
        "        self.graph[u].append(v)\n",
        "\n",
        "    def DFSUtil(self, v, visited):\n",
        "        # Menandai node sebagai telah dikunjungi dan mencetaknya\n",
        "        visited.add(v)\n",
        "        print(v, end=' ')\n",
        "\n",
        "        # Melakukan rekursi untuk semua tetangga yang belum dikunjungi\n",
        "        if v in self.graph:\n",
        "            for neighbour in self.graph[v]:\n",
        "                if neighbour not in visited:\n",
        "                    self.DFSUtil(neighbour, visited)\n",
        "\n",
        "    def DFS(self, start_node):\n",
        "        # Menyimpan node yang sudah dikunjungi\n",
        "        visited = set()\n",
        "        # Memulai DFS dari start_node\n",
        "        self.DFSUtil(start_node, visited)\n",
        "\n",
        "# Driver code\n",
        "if __name__ == \"__main__\":\n",
        "    g = Graph()\n",
        "    g.addEdge(0, 1)\n",
        "    g.addEdge(0, 2)\n",
        "    g.addEdge(1, 2)\n",
        "    g.addEdge(2, 0)\n",
        "    g.addEdge(2, 3)\n",
        "    g.addEdge(3, 3)\n",
        "\n",
        "    print(\"Berikut adalah penelusuran Depth First Search (dimulai dari node 2):\")\n",
        "    g.DFS(2)"
      ]
    },
    {
      "cell_type": "code",
      "source": [
        "# BFS algorithm in Python\n",
        "\n",
        "import collections\n",
        "\n",
        "# BFS algorithm\n",
        "def bfs(graph, root):\n",
        "    visited, queue = set(), collections.deque([root])\n",
        "    visited.add(root)\n",
        "\n",
        "    while queue:\n",
        "        # Dequeue a vertex from queue\n",
        "        vertex = queue.popleft()\n",
        "        print(str(vertex) + \" \", end=\"\")\n",
        "\n",
        "        # If not visited, mark it as visited, and enqueue it\n",
        "        for neighbour in graph[vertex]:\n",
        "            if neighbour not in visited:\n",
        "                visited.add(neighbour)\n",
        "                queue.append(neighbour)\n",
        "\n",
        "if __name__ == '__main__':\n",
        "    graph = {0: [1, 2], 1: [2], 2: [3], 3: [1, 2]}\n",
        "    print(\"Following is Breadth First Traversal: \")\n",
        "    bfs(graph, 0)\n"
      ],
      "metadata": {
        "id": "j0-8vyOHQN5w",
        "outputId": "6ae2d165-1f85-43f6-8f73-7eca1b809cc1",
        "colab": {
          "base_uri": "https://localhost:8080/"
        }
      },
      "execution_count": null,
      "outputs": [
        {
          "output_type": "stream",
          "name": "stdout",
          "text": [
            "Following is Breadth First Traversal: \n",
            "0 1 2 3 "
          ]
        }
      ]
    },
    {
      "cell_type": "code",
      "source": [
        "# Python3 implementation of Uniform Cost Search\n",
        "\n",
        "# Returns the minimum cost in a vector if there are multiple goal states\n",
        "def uniform_cost_search(goal, start):\n",
        "    global graph, cost\n",
        "    answer = []\n",
        "\n",
        "    # Create a priority queue\n",
        "    queue = []\n",
        "\n",
        "    # Set the answer vector to max value\n",
        "    for i in range(len(goal)):\n",
        "        answer.append(10**8)\n",
        "\n",
        "    # Insert the starting index\n",
        "    queue.append([0, start])\n",
        "\n",
        "    # Map to store visited nodes\n",
        "    visited = {}\n",
        "\n",
        "    # Count variable\n",
        "    count = 0\n",
        "\n",
        "    # While the queue is not empty\n",
        "    while len(queue) > 0:\n",
        "        # Get the top element of the queue\n",
        "        queue = sorted(queue)\n",
        "        p = queue[-1]\n",
        "\n",
        "        # Pop the element\n",
        "        del queue[-1]\n",
        "\n",
        "        # Get the original value\n",
        "        p[0] *= -1\n",
        "\n",
        "        # Check if the element is part of the goal list\n",
        "        if p[1] in goal:\n",
        "            # Get the position\n",
        "            index = goal.index(p[1])\n",
        "\n",
        "            # If a new goal is reached\n",
        "            if answer[index] == 10**8:\n",
        "                count += 1\n",
        "\n",
        "            # If the cost is less\n",
        "            if answer[index] > p[0]:\n",
        "                answer[index] = p[0]\n",
        "\n",
        "            # If all goals are reached, return the answer\n",
        "            if count == len(goal):\n",
        "                return answer\n",
        "\n",
        "        # Check for the non-visited nodes which are adjacent to the present node\n",
        "        if p[1] not in visited:\n",
        "            for i in range(len(graph[p[1]])):\n",
        "                # Value is multiplied by -1 so that least priority is at the top\n",
        "                queue.append([(p[0] + cost[(p[1], graph[p[1]][i])]) * -1, graph[p[1]][i]])\n",
        "\n",
        "            # Mark as visited\n",
        "            visited[p[1]] = 1\n",
        "\n",
        "    return answer\n",
        "\n",
        "\n",
        "# Main function\n",
        "if __name__ == '__main__':\n",
        "    # Create the graph\n",
        "    graph, cost = [[] for i in range(8)], {}\n",
        "\n",
        "    # Add edges\n",
        "    graph[0].append(1)\n",
        "    graph[0].append(3)\n",
        "    graph[3].append(1)\n",
        "    graph[3].append(6)\n",
        "    graph[3].append(4)\n",
        "    graph[1].append(6)\n",
        "    graph[4].append(2)\n",
        "    graph[4].append(5)\n",
        "    graph[2].append(1)\n",
        "    graph[5].append(2)\n",
        "    graph[5].append(6)\n",
        "    graph[6].append(4)\n",
        "\n",
        "    # Add the cost\n",
        "    cost[(0, 1)] = 2\n",
        "    cost[(0, 3)] = 5\n",
        "    cost[(1, 6)] = 1\n",
        "    cost[(3, 1)] = 5\n",
        "    cost[(3, 6)] = 6\n",
        "    cost[(3, 4)] = 2\n",
        "    cost[(2, 1)] = 4\n",
        "    cost[(4, 2)] = 4\n",
        "    cost[(4, 5)] = 3\n",
        "    cost[(5, 2)] = 6\n",
        "    cost[(5, 6)] = 3\n",
        "    cost[(6, 4)] = 7\n",
        "\n",
        "    # Goal state\n",
        "    goal = []\n",
        "\n",
        "    # Set the goal\n",
        "    # There can be multiple goal states\n",
        "    goal.append(6)\n",
        "\n",
        "    # Get the answer\n",
        "    answer = uniform_cost_search(goal, 0)\n",
        "\n",
        "    # Print the answer\n",
        "    print(\"Minimum cost from 0 to 6 is =\", answer[0])\n"
      ],
      "metadata": {
        "id": "rOUE9HRHSq9E",
        "colab": {
          "base_uri": "https://localhost:8080/"
        },
        "outputId": "d9052037-1769-4165-bdb4-5934a6c663de"
      },
      "execution_count": 5,
      "outputs": [
        {
          "output_type": "stream",
          "name": "stdout",
          "text": [
            "Minimum cost from 0 to 6 is = 3\n"
          ]
        }
      ]
    }
  ]
}